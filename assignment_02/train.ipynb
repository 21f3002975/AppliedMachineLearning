{
 "cells": [
  {
   "cell_type": "markdown",
   "id": "cd3f4d2f-b0db-46be-acda-0954054e0583",
   "metadata": {},
   "source": [
    "# <span style=\"color:blue;\">Notebook Contents</span>\n",
    "\n",
    "## 1. Importing Packages\n",
    "\n",
    "## 2. Loading Preparation\n",
    "  1. **Data loading**\n",
    "  2. **Encoding**\n",
    "\n",
    "## 3. Training and Evaluating the Models\n",
    "  1. **Training and tracking Decision Tree, Logistic Regression and SVM**\n",
    "  \n",
    "## 4. Model Evaluation using AUC-PR score"
   ]
  },
  {
   "cell_type": "markdown",
   "id": "885ab738-05c1-4857-9afd-b42738c2cf8e",
   "metadata": {},
   "source": [
    "## 1. Importing packages"
   ]
  },
  {
   "cell_type": "code",
   "execution_count": 24,
   "id": "7f6868b2-dbc4-420f-96a0-aa77c685c038",
   "metadata": {},
   "outputs": [],
   "source": [
    "# common imports\n",
    "import os\n",
    "import ast\n",
    "import time\n",
    "from collections import Counter\n",
    "import pandas as pd\n",
    "import numpy as np\n",
    "\n",
    "# for pretty plots\n",
    "%matplotlib inline\n",
    "import matplotlib as mpl\n",
    "import matplotlib.pyplot as plt\n",
    "plt.style.use('ggplot')\n",
    "import seaborn as sns\n",
    "\n",
    "# global settings\n",
    "mpl.rc('axes', labelsize=14)\n",
    "mpl.rc('xtick', labelsize=12)\n",
    "mpl.rc('ytick', labelsize=12)\n",
    "mpl.rc('figure',figsize=(8,6))\n",
    "\n",
    "# shuffle\n",
    "from sklearn.utils import shuffle\n",
    "\n",
    "# pipleline\n",
    "from sklearn.pipeline import make_pipeline, Pipeline\n",
    "\n",
    "# feature extraction\n",
    "from sklearn.feature_extraction.text import CountVectorizer, TfidfVectorizer\n",
    "\n",
    "# feature scaling\n",
    "from sklearn.preprocessing import OneHotEncoder, LabelEncoder\n",
    "\n",
    "# classifiers\n",
    "from sklearn.linear_model import SGDClassifier, LogisticRegression, LogisticRegressionCV\n",
    "from sklearn.svm import SVC\n",
    "from sklearn.tree import DecisionTreeClassifier\n",
    "\n",
    "# model selection\n",
    "from sklearn.model_selection import cross_val_score, cross_validate, cross_val_predict, GridSearchCV, PredefinedSplit\n",
    "\n",
    "# metrics\n",
    "from sklearn.metrics import accuracy_score, precision_score, recall_score, average_precision_score, f1_score \n",
    "from sklearn.metrics import classification_report, make_scorer\n",
    "from sklearn.metrics import confusion_matrix, ConfusionMatrixDisplay\n",
    "from sklearn.metrics import precision_recall_curve\n",
    "from sklearn.metrics import auc,roc_curve, roc_auc_score, PrecisionRecallDisplay\n",
    "\n",
    "# mlflow\n",
    "import mlflow\n",
    "import mlflow.sklearn"
   ]
  },
  {
   "cell_type": "code",
   "execution_count": 3,
   "id": "8f166843-1574-4ffc-8d9a-2f9a4339b337",
   "metadata": {},
   "outputs": [],
   "source": [
    "# Ingore warnings\n",
    "def warn(*args, **kwargs):\n",
    "    pass\n",
    "import warnings\n",
    "warnings.warn = warn"
   ]
  },
  {
   "cell_type": "markdown",
   "id": "cba7d614-ac97-42bd-bd90-ad800f048935",
   "metadata": {},
   "source": [
    "## 2. Data Preparation"
   ]
  },
  {
   "cell_type": "markdown",
   "id": "069ed0dc-0bb8-46a9-9f20-e9992bd8d5f5",
   "metadata": {},
   "source": [
    "### Loading the data"
   ]
  },
  {
   "cell_type": "code",
   "execution_count": 8,
   "id": "1105028b-4193-4f6f-9570-d45a096c4491",
   "metadata": {},
   "outputs": [],
   "source": [
    "train = pd.read_csv('./dvc_store/train.csv')\n",
    "validation = pd.read_csv('./dvc_store/validation.csv')\n",
    "test = pd.read_csv('./dvc_store/test.csv')"
   ]
  },
  {
   "cell_type": "markdown",
   "id": "adc5cafb-4a12-4afb-94cf-54d61fae8d43",
   "metadata": {},
   "source": [
    "### Encoding the data"
   ]
  },
  {
   "cell_type": "code",
   "execution_count": 4,
   "id": "4f578f84-d59e-4d68-9e4a-53044b43c4e8",
   "metadata": {},
   "outputs": [],
   "source": [
    "encoder = LabelEncoder()\n",
    "vectorizer = TfidfVectorizer(sublinear_tf=True, max_df=0.8, stop_words=\"english\")\n",
    "\n",
    "def features_label_vectorization(df, is_train=True):\n",
    "    X = df['Tokens']\n",
    "    y = df['Label']\n",
    "\n",
    "    if is_train:\n",
    "        features = vectorizer.fit_transform(X)  \n",
    "        label = encoder.fit_transform(y)  \n",
    "        \n",
    "    else:\n",
    "        features = vectorizer.transform(X) \n",
    "        label = encoder.transform(y) \n",
    "\n",
    "    return features, label"
   ]
  },
  {
   "cell_type": "code",
   "execution_count": 11,
   "id": "baf4c8d7-afea-47bd-94a0-43b13eab08ef",
   "metadata": {},
   "outputs": [],
   "source": [
    "encoder = LabelEncoder()\n",
    "vectorizer = TfidfVectorizer(sublinear_tf=True, max_df=0.8, stop_words=\"english\")\n",
    "\n",
    "def features_label_vectorization(df, is_train=True):\n",
    "    X = df['Tokens']\n",
    "    y = df['Label']\n",
    "\n",
    "    if is_train:\n",
    "        features = vectorizer.fit_transform(X)  \n",
    "        label = encoder.fit_transform(y)  \n",
    "        \n",
    "    else:\n",
    "        features = vectorizer.transform(X) \n",
    "        label = encoder.transform(y) \n",
    "\n",
    "    return features, label"
   ]
  },
  {
   "cell_type": "code",
   "execution_count": 19,
   "id": "c88dca93-6720-4851-9d42-e5031a6b9d69",
   "metadata": {},
   "outputs": [],
   "source": [
    "X_tr, y_tr = features_label_vectorization(train, is_train=True)\n",
    "X_val, y_val = features_label_vectorization(validation, is_train=False)\n",
    "X_test, y_test = features_label_vectorization(test, is_train=False)"
   ]
  },
  {
   "cell_type": "code",
   "execution_count": 36,
   "id": "054f701b-b839-481a-999f-16277dd2c9f7",
   "metadata": {},
   "outputs": [],
   "source": [
    "X_test, y_test = features_label_vectorization(test, is_train=False)"
   ]
  },
  {
   "cell_type": "markdown",
   "id": "46c4a635-6f79-4aaa-a720-cb3d0748c8b6",
   "metadata": {},
   "source": [
    "## 3. Model training and tracking"
   ]
  },
  {
   "cell_type": "markdown",
   "id": "a72af738-bbdc-482f-ad92-94d1c4a5ba8b",
   "metadata": {},
   "source": [
    "### Three models\n",
    "   1.**Decision**\n",
    "   2.**Logistic Regression**\n",
    "   3.**SVM**"
   ]
  },
  {
   "cell_type": "code",
   "execution_count": 20,
   "id": "2afde290-e3ed-44de-8be3-2d304f9fe6c1",
   "metadata": {},
   "outputs": [],
   "source": [
    "# Models\n",
    "\n",
    "# Decision Tree\n",
    "dt_clf = DecisionTreeClassifier(class_weight='balanced', max_depth=20, random_state=42)\n",
    "\n",
    "# Logistic Regression\n",
    "sgd_clf = SGDClassifier(loss='log_loss', penalty='l2', alpha=0.0001, learning_rate='constant',\n",
    "                        eta0=0.01, warm_start=True, max_iter=1000, random_state=42)\n",
    "\n",
    "# Support Vector Machine\n",
    "svm_clf = SVC(kernel='rbf', C=1.0, gamma='scale', probability=True, random_state=42)"
   ]
  },
  {
   "cell_type": "code",
   "execution_count": 21,
   "id": "822bf9e4-eddf-46ec-a196-512370a571e0",
   "metadata": {},
   "outputs": [],
   "source": [
    "# model metrics\n",
    "\n",
    "def model_eval_metrics(y, y_pred, y_proba, model_name, data_set_name):\n",
    "    accuracy = accuracy_score(y, y_pred)\n",
    "    precision = precision_score(y, y_pred, pos_label=1)\n",
    "    recall = recall_score(y, y_pred, pos_label=1)\n",
    "    f1 = f1_score(y, y_pred, pos_label=1)\n",
    "    aucpr = average_precision_score(y, y_proba) if y_proba is not None else np.nan\n",
    "\n",
    "    return {\n",
    "        \"Model\": model_name,\n",
    "        \"Dataset\": data_set_name,\n",
    "        \"Accuracy\": accuracy,\n",
    "        \"Precision\": precision,\n",
    "        \"Recall\": recall,\n",
    "        \"F1 Score\": f1,\n",
    "        \"AUC PR\": aucpr\n",
    "    }"
   ]
  },
  {
   "cell_type": "code",
   "execution_count": 32,
   "id": "ffaa51d0-fc5f-47ec-a91f-2c62f638541e",
   "metadata": {},
   "outputs": [],
   "source": [
    "# Function to train and evaluate models\n",
    "def train_and_evaluate_models(X_train, y_train):\n",
    "    models = {\n",
    "        \"Decision Tree\": dt_clf,\n",
    "        \"Logistic Regression (SGD)\": sgd_clf,\n",
    "        \"SVM\": svm_clf\n",
    "    }\n",
    "    \n",
    "    results = []\n",
    "    \n",
    "    mlflow.set_experiment(\"Spam Classification Experiment\")\n",
    "    \n",
    "    for model_name, model in models.items():\n",
    "        with mlflow.start_run(run_name=model_name):\n",
    "            model.fit(X_train, y_train)\n",
    "            y_pred = model.predict(X_train)\n",
    "            y_proba = model.predict_proba(X_train)[:, 1] if hasattr(model, \"predict_proba\") else None\n",
    "            \n",
    "            metrics = model_eval_metrics(y_train, y_pred, y_proba, model_name, \"Training\")\n",
    "            results.append(metrics)\n",
    "            \n",
    "            # Log metrics to MLflow\n",
    "            mlflow.log_param(\"model_name\", model_name)\n",
    "            mlflow.log_metric(\"accuracy\", metrics[\"Accuracy\"])\n",
    "            mlflow.log_metric(\"precision\", metrics[\"Precision\"])\n",
    "            mlflow.log_metric(\"recall\", metrics[\"Recall\"])\n",
    "            mlflow.log_metric(\"f1_score\", metrics[\"F1 Score\"])\n",
    "            mlflow.log_metric(\"auc_pr\", metrics[\"AUC PR\"])\n",
    "            \n",
    "            # Log model to MLflow\n",
    "            input_example = X_train[:1]\n",
    "            mlflow.sklearn.log_model(model, model_name, input_example=input_example)\n",
    "    \n",
    "    df_results = pd.DataFrame(results)\n",
    "    return df_results"
   ]
  },
  {
   "cell_type": "code",
   "execution_count": 33,
   "id": "15625eca-8bbf-427f-82ca-0d0ad1aaf6f7",
   "metadata": {},
   "outputs": [
    {
     "data": {
      "text/html": [
       "<div>\n",
       "<style scoped>\n",
       "    .dataframe tbody tr th:only-of-type {\n",
       "        vertical-align: middle;\n",
       "    }\n",
       "\n",
       "    .dataframe tbody tr th {\n",
       "        vertical-align: top;\n",
       "    }\n",
       "\n",
       "    .dataframe thead th {\n",
       "        text-align: right;\n",
       "    }\n",
       "</style>\n",
       "<table border=\"1\" class=\"dataframe\">\n",
       "  <thead>\n",
       "    <tr style=\"text-align: right;\">\n",
       "      <th></th>\n",
       "      <th>Model</th>\n",
       "      <th>Dataset</th>\n",
       "      <th>Accuracy</th>\n",
       "      <th>Precision</th>\n",
       "      <th>Recall</th>\n",
       "      <th>F1 Score</th>\n",
       "      <th>AUC PR</th>\n",
       "    </tr>\n",
       "  </thead>\n",
       "  <tbody>\n",
       "    <tr>\n",
       "      <th>0</th>\n",
       "      <td>Decision Tree</td>\n",
       "      <td>Training</td>\n",
       "      <td>0.983450</td>\n",
       "      <td>0.976190</td>\n",
       "      <td>0.893246</td>\n",
       "      <td>0.932878</td>\n",
       "      <td>0.906162</td>\n",
       "    </tr>\n",
       "    <tr>\n",
       "      <th>1</th>\n",
       "      <td>Logistic Regression (SGD)</td>\n",
       "      <td>Training</td>\n",
       "      <td>0.968303</td>\n",
       "      <td>0.991477</td>\n",
       "      <td>0.760349</td>\n",
       "      <td>0.860666</td>\n",
       "      <td>0.979938</td>\n",
       "    </tr>\n",
       "    <tr>\n",
       "      <th>2</th>\n",
       "      <td>SVM</td>\n",
       "      <td>Training</td>\n",
       "      <td>0.996914</td>\n",
       "      <td>1.000000</td>\n",
       "      <td>0.976035</td>\n",
       "      <td>0.987872</td>\n",
       "      <td>0.999991</td>\n",
       "    </tr>\n",
       "  </tbody>\n",
       "</table>\n",
       "</div>"
      ],
      "text/plain": [
       "                       Model   Dataset  Accuracy  Precision    Recall  \\\n",
       "0              Decision Tree  Training  0.983450   0.976190  0.893246   \n",
       "1  Logistic Regression (SGD)  Training  0.968303   0.991477  0.760349   \n",
       "2                        SVM  Training  0.996914   1.000000  0.976035   \n",
       "\n",
       "   F1 Score    AUC PR  \n",
       "0  0.932878  0.906162  \n",
       "1  0.860666  0.979938  \n",
       "2  0.987872  0.999991  "
      ]
     },
     "execution_count": 33,
     "metadata": {},
     "output_type": "execute_result"
    }
   ],
   "source": [
    "results = train_and_evaluate_models(X_tr, y_tr)\n",
    "results"
   ]
  },
  {
   "cell_type": "markdown",
   "id": "b2d8e6b5-83c1-4e89-b4b2-9f2dfcdd2a45",
   "metadata": {},
   "source": [
    "## 4. Model Scoring using AUC-PR score on test data"
   ]
  },
  {
   "cell_type": "code",
   "execution_count": 83,
   "id": "816fc73e-9248-434e-913b-d16ad1eeba7e",
   "metadata": {},
   "outputs": [],
   "source": [
    "def plot_precision_recall_curves(X_test, y_test):\n",
    "    runs = mlflow.search_runs(order_by=['start_time desc'])\n",
    "    auc_pr_scores = {}\n",
    "    \n",
    "    plt.figure(figsize=(6, 4))\n",
    "    \n",
    "    for _, row in runs.iterrows():\n",
    "        model_name = row['tags.mlflow.runName']\n",
    "        if model_name in auc_pr_scores:\n",
    "            continue  # Avoid duplicate model entries\n",
    "        \n",
    "        logged_model = f\"runs:/{row['run_id']}/{model_name}\"\n",
    "        model = mlflow.sklearn.load_model(logged_model)\n",
    "        \n",
    "        y_proba = model.predict_proba(X_test)[:, 1] if hasattr(model, \"predict_proba\") else None\n",
    "        \n",
    "        if y_proba is not None:\n",
    "            precision, recall, _ = precision_recall_curve(y_test, y_proba)\n",
    "            auc_pr = average_precision_score(y_test, y_proba)\n",
    "            auc_pr_scores[model_name] = auc_pr\n",
    "            plt.plot(recall, precision, marker='.', label=model_name)\n",
    "    \n",
    "    plt.xlabel('Recall')\n",
    "    plt.ylabel('Precision')\n",
    "    plt.title('Precision-Recall Curve for Models')\n",
    "    plt.legend()\n",
    "    plt.show()\n",
    "    \n",
    "    # Bar chart for AUC-PR scores\n",
    "    plt.figure(figsize=(6, 4))\n",
    "    plt.bar(auc_pr_scores.keys(), auc_pr_scores.values(), color=['red', 'blue', 'purple'])\n",
    "    plt.xlabel('Model', fontsize=10)\n",
    "    plt.xticks(fontsize=8)\n",
    "    plt.ylabel('AUC-PR')\n",
    "    plt.title('AUC-PR Scores for Models')\n",
    "    plt.show()"
   ]
  },
  {
   "cell_type": "code",
   "execution_count": 84,
   "id": "aa593b3b-0f0c-4606-b646-811f017285be",
   "metadata": {},
   "outputs": [
    {
     "data": {
      "image/png": "[encoded data removed]",
      "text/plain": [
       "<Figure size 600x400 with 1 Axes>"
      ]
     },
     "metadata": {},
     "output_type": "display_data"
    },
    {
     "data": {
      "image/png": "[encoded data removed]",
      "text/plain": [
       "<Figure size 600x400 with 1 Axes>"
      ]
     },
     "metadata": {},
     "output_type": "display_data"
    }
   ],
   "source": [
    "plot_precision_recall_curves(X_test, y_test)"
   ]
  },
  {
   "cell_type": "code",
   "execution_count": null,
   "id": "cc0194d5-705b-42ef-ab65-37ff5afdc9d1",
   "metadata": {},
   "outputs": [],
   "source": []
  }
 ],
 "metadata": {
  "kernelspec": {
   "display_name": "Python 3 (ipykernel)",
   "language": "python",
   "name": "python3"
  },
  "language_info": {
   "codemirror_mode": {
    "name": "ipython",
    "version": 3
   },
   "file_extension": ".py",
   "mimetype": "text/x-python",
   "name": "python",
   "nbconvert_exporter": "python",
   "pygments_lexer": "ipython3",
   "version": "3.11.7"
  }
 },
 "nbformat": 4,
 "nbformat_minor": 5
}

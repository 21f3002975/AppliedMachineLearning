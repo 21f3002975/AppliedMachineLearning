{
 "cells": [
  {
   "cell_type": "markdown",
   "id": "3ed3d87a-1126-4d0b-9e9c-061002fe29fe",
   "metadata": {},
   "source": [
    "# <span style=\"color:blue;\">Notebook Contents</span>\n",
    "\n",
    "## 1. Importing Packages\n",
    "\n",
    "## 2. Data Extraction and Exploration\n",
    "  1. **Data hygiene checks** \n",
    "  2. **Tokenization and Data Exploration**\n",
    "\n",
    "## 3. Data Preparation\n",
    "  1. **Creating Train, Validation and Test data sets** \n",
    "  2. **Saving the data sets for Model Training and Evaluating**\n",
    "  \n",
    "<hr>"
   ]
  },
  {
   "cell_type": "markdown",
   "id": "885ab738-05c1-4857-9afd-b42738c2cf8e",
   "metadata": {},
   "source": [
    "## 1. Importing packages"
   ]
  },
  {
   "cell_type": "code",
   "execution_count": 1,
   "id": "7f6868b2-dbc4-420f-96a0-aa77c685c038",
   "metadata": {},
   "outputs": [],
   "source": [
    "# common imports\n",
    "import os\n",
    "import time\n",
    "from collections import Counter\n",
    "import pandas as pd\n",
    "import numpy as np\n",
    "\n",
    "# for pretty plots\n",
    "%matplotlib inline\n",
    "import matplotlib as mpl\n",
    "import matplotlib.pyplot as plt\n",
    "plt.style.use('ggplot')\n",
    "import seaborn as sns\n",
    "\n",
    "# global settings\n",
    "mpl.rc('axes', labelsize=14)\n",
    "mpl.rc('xtick', labelsize=12)\n",
    "mpl.rc('ytick', labelsize=12)\n",
    "mpl.rc('figure',figsize=(8,6))"
   ]
  },
  {
   "cell_type": "code",
   "execution_count": 2,
   "id": "8f166843-1574-4ffc-8d9a-2f9a4339b337",
   "metadata": {},
   "outputs": [],
   "source": [
    "# Ingore warnings\n",
    "def warn(*args, **kwargs):\n",
    "    pass\n",
    "import warnings\n",
    "warnings.warn = warn"
   ]
  },
  {
   "cell_type": "markdown",
   "id": "cba7d614-ac97-42bd-bd90-ad800f048935",
   "metadata": {},
   "source": [
    "## 2. Data Extraction and Exploration"
   ]
  },
  {
   "cell_type": "code",
   "execution_count": 3,
   "id": "b4af3ba4-a5e8-41bf-ad48-6c0a4acd67e1",
   "metadata": {},
   "outputs": [],
   "source": [
    "file_path = './data/SMSSpamCollection' # path\n",
    "df = pd.read_csv(file_path, sep='\\t', header = None, names = ['Label', 'Message'])"
   ]
  },
  {
   "cell_type": "markdown",
   "id": "46c4a635-6f79-4aaa-a720-cb3d0748c8b6",
   "metadata": {},
   "source": [
    "### 2.1 Data hygiene checks"
   ]
  },
  {
   "cell_type": "code",
   "execution_count": 4,
   "id": "ff070a7c-642d-466d-a5a2-40617ed16d88",
   "metadata": {},
   "outputs": [
    {
     "name": "stdout",
     "output_type": "stream",
     "text": [
      "  Label                                            Message\n",
      "0   ham  Go until jurong point, crazy.. Available only ...\n",
      "1   ham                      Ok lar... Joking wif u oni...\n",
      "2  spam  Free entry in 2 a wkly comp to win FA Cup fina...\n",
      "3   ham  U dun say so early hor... U c already then say...\n",
      "4   ham  Nah I don't think he goes to usf, he lives aro...\n"
     ]
    }
   ],
   "source": [
    "print(df.head()) # print the top 5 rows"
   ]
  },
  {
   "cell_type": "code",
   "execution_count": 5,
   "id": "4b75207e-80f4-431c-ae78-ab2f625a5782",
   "metadata": {},
   "outputs": [
    {
     "data": {
      "text/plain": [
       "(5572, 2)"
      ]
     },
     "execution_count": 5,
     "metadata": {},
     "output_type": "execute_result"
    }
   ],
   "source": [
    "df.shape # data size"
   ]
  },
  {
   "cell_type": "code",
   "execution_count": 6,
   "id": "75ba81cd-93cf-4cf1-8ace-f55e9f243a34",
   "metadata": {},
   "outputs": [
    {
     "data": {
      "text/plain": [
       "Label\n",
       "ham     4825\n",
       "spam     747\n",
       "Name: count, dtype: int64"
      ]
     },
     "execution_count": 6,
     "metadata": {},
     "output_type": "execute_result"
    }
   ],
   "source": [
    "df['Label'].value_counts() # count of classification variable"
   ]
  },
  {
   "cell_type": "code",
   "execution_count": 7,
   "id": "e499d25f-49f8-4477-8376-ce5a0620ef68",
   "metadata": {},
   "outputs": [
    {
     "data": {
      "text/html": [
       "<div>\n",
       "<style scoped>\n",
       "    .dataframe tbody tr th:only-of-type {\n",
       "        vertical-align: middle;\n",
       "    }\n",
       "\n",
       "    .dataframe tbody tr th {\n",
       "        vertical-align: top;\n",
       "    }\n",
       "\n",
       "    .dataframe thead th {\n",
       "        text-align: right;\n",
       "    }\n",
       "</style>\n",
       "<table border=\"1\" class=\"dataframe\">\n",
       "  <thead>\n",
       "    <tr style=\"text-align: right;\">\n",
       "      <th></th>\n",
       "      <th>Message</th>\n",
       "    </tr>\n",
       "    <tr>\n",
       "      <th>Label</th>\n",
       "      <th></th>\n",
       "    </tr>\n",
       "  </thead>\n",
       "  <tbody>\n",
       "    <tr>\n",
       "      <th>ham</th>\n",
       "      <td>0.865937</td>\n",
       "    </tr>\n",
       "    <tr>\n",
       "      <th>spam</th>\n",
       "      <td>0.134063</td>\n",
       "    </tr>\n",
       "  </tbody>\n",
       "</table>\n",
       "</div>"
      ],
      "text/plain": [
       "        Message\n",
       "Label          \n",
       "ham    0.865937\n",
       "spam   0.134063"
      ]
     },
     "execution_count": 7,
     "metadata": {},
     "output_type": "execute_result"
    }
   ],
   "source": [
    "split = df.groupby(['Label']).count()/df.shape[0]  # proportions of spam vs ham\n",
    "split"
   ]
  },
  {
   "cell_type": "code",
   "execution_count": 8,
   "id": "70a29c72-32ac-4f28-91a2-973c9f729a75",
   "metadata": {},
   "outputs": [],
   "source": [
    "spam = split.iloc[1, 0]"
   ]
  },
  {
   "cell_type": "code",
   "execution_count": 9,
   "id": "875b5a8b-1c62-4bd1-9b35-b9cbe04e8c50",
   "metadata": {},
   "outputs": [
    {
     "name": "stdout",
     "output_type": "stream",
     "text": [
      "The % of spam in the data is : 13.4, the rest is ham.\n"
     ]
    }
   ],
   "source": [
    "print(f'The % of spam in the data is : {spam * 100:.1f}, the rest is ham.')"
   ]
  },
  {
   "cell_type": "code",
   "execution_count": 10,
   "id": "ac991675-17ab-4853-a486-a55e6bdc5049",
   "metadata": {},
   "outputs": [
    {
     "name": "stdout",
     "output_type": "stream",
     "text": [
      "<class 'pandas.core.frame.DataFrame'>\n",
      "RangeIndex: 5572 entries, 0 to 5571\n",
      "Data columns (total 2 columns):\n",
      " #   Column   Non-Null Count  Dtype \n",
      "---  ------   --------------  ----- \n",
      " 0   Label    5572 non-null   object\n",
      " 1   Message  5572 non-null   object\n",
      "dtypes: object(2)\n",
      "memory usage: 87.2+ KB\n"
     ]
    }
   ],
   "source": [
    "df.info() # data types"
   ]
  },
  {
   "cell_type": "code",
   "execution_count": 11,
   "id": "2fa1505b-1d6d-4d1f-b6bf-839f55333161",
   "metadata": {},
   "outputs": [
    {
     "data": {
      "text/plain": [
       "Label      0\n",
       "Message    0\n",
       "dtype: int64"
      ]
     },
     "execution_count": 11,
     "metadata": {},
     "output_type": "execute_result"
    }
   ],
   "source": [
    "df.isnull().sum()"
   ]
  },
  {
   "cell_type": "code",
   "execution_count": 12,
   "id": "442ccf4a-be0b-45a2-88bd-c46558a60a84",
   "metadata": {},
   "outputs": [
    {
     "name": "stdout",
     "output_type": "stream",
     "text": [
      "The count of null values is : 0\n"
     ]
    }
   ],
   "source": [
    "null_values = df.isnull().sum().sum() # check for null values\n",
    "print(f'The count of null values is : {null_values}')"
   ]
  },
  {
   "cell_type": "code",
   "execution_count": 13,
   "id": "3eca4d4e-b123-4eab-8bcc-6fa0fb677d58",
   "metadata": {},
   "outputs": [
    {
     "data": {
      "text/html": [
       "<div>\n",
       "<style scoped>\n",
       "    .dataframe tbody tr th:only-of-type {\n",
       "        vertical-align: middle;\n",
       "    }\n",
       "\n",
       "    .dataframe tbody tr th {\n",
       "        vertical-align: top;\n",
       "    }\n",
       "\n",
       "    .dataframe thead th {\n",
       "        text-align: right;\n",
       "    }\n",
       "</style>\n",
       "<table border=\"1\" class=\"dataframe\">\n",
       "  <thead>\n",
       "    <tr style=\"text-align: right;\">\n",
       "      <th></th>\n",
       "      <th>Label</th>\n",
       "      <th>Message</th>\n",
       "      <th>Length</th>\n",
       "    </tr>\n",
       "  </thead>\n",
       "  <tbody>\n",
       "    <tr>\n",
       "      <th>0</th>\n",
       "      <td>ham</td>\n",
       "      <td>Go until jurong point, crazy.. Available only ...</td>\n",
       "      <td>111</td>\n",
       "    </tr>\n",
       "    <tr>\n",
       "      <th>1</th>\n",
       "      <td>ham</td>\n",
       "      <td>Ok lar... Joking wif u oni...</td>\n",
       "      <td>29</td>\n",
       "    </tr>\n",
       "    <tr>\n",
       "      <th>2</th>\n",
       "      <td>spam</td>\n",
       "      <td>Free entry in 2 a wkly comp to win FA Cup fina...</td>\n",
       "      <td>155</td>\n",
       "    </tr>\n",
       "    <tr>\n",
       "      <th>3</th>\n",
       "      <td>ham</td>\n",
       "      <td>U dun say so early hor... U c already then say...</td>\n",
       "      <td>49</td>\n",
       "    </tr>\n",
       "    <tr>\n",
       "      <th>4</th>\n",
       "      <td>ham</td>\n",
       "      <td>Nah I don't think he goes to usf, he lives aro...</td>\n",
       "      <td>61</td>\n",
       "    </tr>\n",
       "  </tbody>\n",
       "</table>\n",
       "</div>"
      ],
      "text/plain": [
       "  Label                                            Message  Length\n",
       "0   ham  Go until jurong point, crazy.. Available only ...     111\n",
       "1   ham                      Ok lar... Joking wif u oni...      29\n",
       "2  spam  Free entry in 2 a wkly comp to win FA Cup fina...     155\n",
       "3   ham  U dun say so early hor... U c already then say...      49\n",
       "4   ham  Nah I don't think he goes to usf, he lives aro...      61"
      ]
     },
     "execution_count": 13,
     "metadata": {},
     "output_type": "execute_result"
    }
   ],
   "source": [
    "df['Length'] = df['Message'].apply(len)\n",
    "df.head()"
   ]
  },
  {
   "cell_type": "markdown",
   "id": "4b651d8a-e01c-4758-9e76-8b4dc5759e51",
   "metadata": {},
   "source": [
    "#### Reading a few messages"
   ]
  },
  {
   "cell_type": "code",
   "execution_count": 14,
   "id": "d315d298-c814-4bed-bbf4-a71efa203815",
   "metadata": {},
   "outputs": [
    {
     "name": "stdout",
     "output_type": "stream",
     "text": [
      "First 10 Spam Messages:\n",
      "\n",
      "Free entry in 2 a wkly comp to win FA Cup final tkts 21st May 2005. Text FA to 87121 to receive entry question(std txt rate)T&C's apply 08452810075over18's\n",
      "FreeMsg Hey there darling it's been 3 week's now and no word back! I'd like some fun you up for it still? Tb ok! XxX std chgs to send, £1.50 to rcv\n",
      "WINNER!! As a valued network customer you have been selected to receivea £900 prize reward! To claim call 09061701461. Claim code KL341. Valid 12 hours only.\n",
      "Had your mobile 11 months or more? U R entitled to Update to the latest colour mobiles with camera for Free! Call The Mobile Update Co FREE on 08002986030\n",
      "SIX chances to win CASH! From 100 to 20,000 pounds txt> CSH11 and send to 87575. Cost 150p/day, 6days, 16+ TsandCs apply Reply HL 4 info\n",
      "URGENT! You have won a 1 week FREE membership in our £100,000 Prize Jackpot! Txt the word: CLAIM to No: 81010 T&C www.dbuk.net LCCLTD POBOX 4403LDNW1A7RW18\n",
      "XXXMobileMovieClub: To use your credit, click the WAP link in the next txt message or click here>> http://wap. xxxmobilemovieclub.com?n=QJKGIGHJJGCBL\n",
      "England v Macedonia - dont miss the goals/team news. Txt ur national team to 87077 eg ENGLAND to 87077 Try:WALES, SCOTLAND 4txt/ú1.20 POBOXox36504W45WQ 16+\n",
      "Thanks for your subscription to Ringtone UK your mobile will be charged £5/month Please confirm by replying YES or NO. If you reply NO you will not be charged\n",
      "07732584351 - Rodger Burns - MSG = We tried to call you re your reply to our sms for a free nokia mobile + free camcorder. Please call now 08000930705 for delivery tomorrow\n",
      "--------------------------------------------------\n",
      "\n",
      "First 10 Ham Messages:\n",
      "\n",
      "Go until jurong point, crazy.. Available only in bugis n great world la e buffet... Cine there got amore wat...\n",
      "Ok lar... Joking wif u oni...\n",
      "U dun say so early hor... U c already then say...\n",
      "Nah I don't think he goes to usf, he lives around here though\n",
      "Even my brother is not like to speak with me. They treat me like aids patent.\n",
      "As per your request 'Melle Melle (Oru Minnaminunginte Nurungu Vettam)' has been set as your callertune for all Callers. Press *9 to copy your friends Callertune\n",
      "I'm gonna be home soon and i don't want to talk about this stuff anymore tonight, k? I've cried enough today.\n",
      "I've been searching for the right words to thank you for this breather. I promise i wont take your help for granted and will fulfil my promise. You have been wonderful and a blessing at all times.\n",
      "I HAVE A DATE ON SUNDAY WITH WILL!!\n",
      "Oh k...i'm watching here:)\n"
     ]
    }
   ],
   "source": [
    "spam_messages = df[df[\"Label\"] == \"spam\"].head(10)[\"Message\"]\n",
    "\n",
    "ham_messages = df[df[\"Label\"] == \"ham\"].head(10)[\"Message\"]\n",
    "\n",
    "print(\"First 10 Spam Messages:\\n\")\n",
    "for msg in spam_messages:\n",
    "    print(msg)\n",
    "    \n",
    "print(\"-\" * 50)  \n",
    "\n",
    "print(\"\\nFirst 10 Ham Messages:\\n\")\n",
    "for msg in ham_messages:\n",
    "    print(msg)\n",
    "    "
   ]
  },
  {
   "cell_type": "markdown",
   "id": "2bce4cee-911b-4cab-8f13-b9cac0812f88",
   "metadata": {},
   "source": [
    "#### Length of messages"
   ]
  },
  {
   "cell_type": "code",
   "execution_count": 15,
   "id": "82a3fee3-ba5d-40b1-a1a3-32500269cf9f",
   "metadata": {},
   "outputs": [],
   "source": [
    "stats = df.groupby('Label')['Length'].agg(['min', 'max', 'mean'])\n",
    "stats['mean'] = stats['mean'].round(0)"
   ]
  },
  {
   "cell_type": "code",
   "execution_count": 16,
   "id": "f07e3b53-6f2f-4e92-87ba-6c8f216dc614",
   "metadata": {},
   "outputs": [
    {
     "name": "stdout",
     "output_type": "stream",
     "text": [
      "Length of messages by type of email :\n",
      "       min  max   mean\n",
      "Label                 \n",
      "ham      2  910   71.0\n",
      "spam    13  223  139.0\n"
     ]
    }
   ],
   "source": [
    "print(f'Length of messages by type of email :')\n",
    "print(stats)"
   ]
  },
  {
   "cell_type": "code",
   "execution_count": 17,
   "id": "7b4e65b3-d591-425a-b52f-f5fd336a64ca",
   "metadata": {},
   "outputs": [
    {
     "data": {
      "image/png": "[encoded data removed]",
      "text/plain": [
       "<Figure size 800x600 with 2 Axes>"
      ]
     },
     "metadata": {},
     "output_type": "display_data"
    }
   ],
   "source": [
    "plots = df.hist(column='Length', by='Label', bins=50, figsize=(8,6));\n",
    "\n",
    "for plot in plots:\n",
    "    plot.set_xlabel('Length of a message')\n",
    "    plot.set_ylabel('No of messages')\n",
    "\n",
    "plt.tight_layout()\n",
    "plt.show()"
   ]
  },
  {
   "cell_type": "markdown",
   "id": "c14fbe7c-2b53-4fe8-9b9b-b3e1731e087d",
   "metadata": {},
   "source": [
    "\n",
    "### <div style=\"color:green;\">Observations</div>\n",
    "\n",
    "<hr>\n",
    "\n",
    "<div style=\"color:green;\">\n",
    "    <ul>\n",
    "        <li>There are no null values.</li>\n",
    "        <li>The message length on average indicates that there are enough characters per message.</li>\n",
    "        <li>Spam messages have higher no of words on an average and the length of message is more clustered towards the mean.</li>\n",
    "    </ul>\n",
    "</div>\n",
    "<hr>"
   ]
  },
  {
   "cell_type": "markdown",
   "id": "2a0bd16c-40b5-47be-a272-10d13103f9a1",
   "metadata": {},
   "source": [
    "## 2.2 Tokenization and Data Exploration"
   ]
  },
  {
   "cell_type": "code",
   "execution_count": 18,
   "id": "06bdf57c-cd08-4b0c-bcfd-33250ec2645a",
   "metadata": {},
   "outputs": [],
   "source": [
    "# NLP packages\n",
    "import spacy\n",
    "from spacy.lang.en import stop_words"
   ]
  },
  {
   "cell_type": "code",
   "execution_count": 19,
   "id": "13477d47-ae66-45d8-bfd0-939d50528d40",
   "metadata": {},
   "outputs": [],
   "source": [
    "nlp = spacy.load('en_core_web_sm') # load spacy english language small model"
   ]
  },
  {
   "cell_type": "code",
   "execution_count": 20,
   "id": "948318b9-6a00-4850-ab22-aae22b7bfe63",
   "metadata": {},
   "outputs": [],
   "source": [
    "custom_stop_words = {\"u\", \"ur\"}\n",
    "for word in custom_stop_words:\n",
    "    nlp.vocab[word].is_stop = True"
   ]
  },
  {
   "cell_type": "code",
   "execution_count": 21,
   "id": "431ada89-9daf-4006-8b5b-83c4e31cbe43",
   "metadata": {},
   "outputs": [],
   "source": [
    "# convert text to tokens and remove non alpha numeric and stop words\n",
    "def tokenize(text):\n",
    "    doc = nlp(text.lower())\n",
    "    tokens = [token.text for token in doc if token.is_alpha and not token.is_stop]\n",
    "    return tokens"
   ]
  },
  {
   "cell_type": "code",
   "execution_count": 22,
   "id": "a15c60dc-fa6a-4ff9-abfd-c8b7268ac38a",
   "metadata": {},
   "outputs": [
    {
     "name": "stdout",
     "output_type": "stream",
     "text": [
      "U dun say so early hor... U c already then say...\n",
      "['dun', 'early', 'hor', 'c']\n"
     ]
    }
   ],
   "source": [
    "print(df.iloc[3,1]) # random check\n",
    "print(tokenize(df.iloc[3,1]))"
   ]
  },
  {
   "cell_type": "code",
   "execution_count": 23,
   "id": "9d688186-df84-42ed-94b5-55baa95f4beb",
   "metadata": {},
   "outputs": [],
   "source": [
    "# Add tokens to df\n",
    "df['Tokens'] = df['Message'].apply(tokenize)"
   ]
  },
  {
   "cell_type": "code",
   "execution_count": 24,
   "id": "a19ac0ee-c38e-4d60-91c9-8244f39ddf93",
   "metadata": {},
   "outputs": [
    {
     "data": {
      "text/html": [
       "<div>\n",
       "<style scoped>\n",
       "    .dataframe tbody tr th:only-of-type {\n",
       "        vertical-align: middle;\n",
       "    }\n",
       "\n",
       "    .dataframe tbody tr th {\n",
       "        vertical-align: top;\n",
       "    }\n",
       "\n",
       "    .dataframe thead th {\n",
       "        text-align: right;\n",
       "    }\n",
       "</style>\n",
       "<table border=\"1\" class=\"dataframe\">\n",
       "  <thead>\n",
       "    <tr style=\"text-align: right;\">\n",
       "      <th></th>\n",
       "      <th>Label</th>\n",
       "      <th>Message</th>\n",
       "      <th>Length</th>\n",
       "      <th>Tokens</th>\n",
       "    </tr>\n",
       "  </thead>\n",
       "  <tbody>\n",
       "    <tr>\n",
       "      <th>0</th>\n",
       "      <td>ham</td>\n",
       "      <td>Go until jurong point, crazy.. Available only ...</td>\n",
       "      <td>111</td>\n",
       "      <td>[jurong, point, crazy, available, bugis, n, gr...</td>\n",
       "    </tr>\n",
       "    <tr>\n",
       "      <th>1</th>\n",
       "      <td>ham</td>\n",
       "      <td>Ok lar... Joking wif u oni...</td>\n",
       "      <td>29</td>\n",
       "      <td>[ok, lar, joking, wif, oni]</td>\n",
       "    </tr>\n",
       "    <tr>\n",
       "      <th>2</th>\n",
       "      <td>spam</td>\n",
       "      <td>Free entry in 2 a wkly comp to win FA Cup fina...</td>\n",
       "      <td>155</td>\n",
       "      <td>[free, entry, wkly, comp, win, fa, cup, final,...</td>\n",
       "    </tr>\n",
       "    <tr>\n",
       "      <th>3</th>\n",
       "      <td>ham</td>\n",
       "      <td>U dun say so early hor... U c already then say...</td>\n",
       "      <td>49</td>\n",
       "      <td>[dun, early, hor, c]</td>\n",
       "    </tr>\n",
       "    <tr>\n",
       "      <th>4</th>\n",
       "      <td>ham</td>\n",
       "      <td>Nah I don't think he goes to usf, he lives aro...</td>\n",
       "      <td>61</td>\n",
       "      <td>[nah, think, goes, usf, lives]</td>\n",
       "    </tr>\n",
       "  </tbody>\n",
       "</table>\n",
       "</div>"
      ],
      "text/plain": [
       "  Label                                            Message  Length  \\\n",
       "0   ham  Go until jurong point, crazy.. Available only ...     111   \n",
       "1   ham                      Ok lar... Joking wif u oni...      29   \n",
       "2  spam  Free entry in 2 a wkly comp to win FA Cup fina...     155   \n",
       "3   ham  U dun say so early hor... U c already then say...      49   \n",
       "4   ham  Nah I don't think he goes to usf, he lives aro...      61   \n",
       "\n",
       "                                              Tokens  \n",
       "0  [jurong, point, crazy, available, bugis, n, gr...  \n",
       "1                        [ok, lar, joking, wif, oni]  \n",
       "2  [free, entry, wkly, comp, win, fa, cup, final,...  \n",
       "3                               [dun, early, hor, c]  \n",
       "4                     [nah, think, goes, usf, lives]  "
      ]
     },
     "execution_count": 24,
     "metadata": {},
     "output_type": "execute_result"
    }
   ],
   "source": [
    "df.head()"
   ]
  },
  {
   "cell_type": "code",
   "execution_count": 25,
   "id": "9ff833b0-e060-44f9-8fa3-66e4f1efbd5a",
   "metadata": {},
   "outputs": [
    {
     "data": {
      "text/plain": [
       "0    [jurong, point, crazy, available, bugis, n, gr...\n",
       "1                          [ok, lar, joking, wif, oni]\n",
       "2    [free, entry, wkly, comp, win, fa, cup, final,...\n",
       "3                                 [dun, early, hor, c]\n",
       "4                       [nah, think, goes, usf, lives]\n",
       "Name: Tokens, dtype: object"
      ]
     },
     "execution_count": 25,
     "metadata": {},
     "output_type": "execute_result"
    }
   ],
   "source": [
    "df['Tokens'].head()"
   ]
  },
  {
   "cell_type": "code",
   "execution_count": 26,
   "id": "c4f60a00-55d1-497b-a899-cabcc1d8479d",
   "metadata": {},
   "outputs": [
    {
     "name": "stdout",
     "output_type": "stream",
     "text": [
      "Top words in 'ham':\n",
      "nt: 319\n",
      "ok: 278\n",
      "got: 245\n",
      "know: 235\n",
      "like: 232\n",
      "come: 229\n",
      "good: 227\n",
      "day: 198\n",
      "love: 193\n",
      "time: 191\n",
      "going: 168\n",
      "ü: 167\n",
      "want: 165\n",
      "lor: 162\n",
      "home: 160\n",
      "need: 157\n",
      "sorry: 157\n",
      "n: 144\n",
      "today: 136\n",
      "da: 136\n",
      "\n",
      "\n",
      "Top words in 'spam':\n",
      "free: 223\n",
      "txt: 154\n",
      "mobile: 127\n",
      "text: 123\n",
      "stop: 120\n",
      "claim: 113\n",
      "reply: 101\n",
      "prize: 92\n",
      "cash: 76\n",
      "won: 73\n",
      "send: 70\n",
      "new: 69\n",
      "nokia: 66\n",
      "urgent: 63\n",
      "win: 60\n",
      "week: 60\n",
      "tone: 59\n",
      "service: 56\n",
      "contact: 56\n",
      "guaranteed: 50\n",
      "\n",
      "\n"
     ]
    }
   ],
   "source": [
    "# common words by spam vs ham\n",
    "grouped_tokens = df.groupby('Label')['Tokens'].sum()\n",
    "\n",
    "high_freq_words = {}\n",
    "low_freq_words = {}\n",
    "\n",
    "for label, tokens in grouped_tokens.items():\n",
    "    word_counts = Counter(tokens)\n",
    "    high_freq_words[label] = word_counts.most_common(20)\n",
    "    low_freq_words[label] = word_counts.most_common()[:-21:-1]\n",
    "\n",
    "# display\n",
    "for label, words in high_freq_words.items():\n",
    "    print(f\"Top words in '{label}':\")\n",
    "    for word, count in words:\n",
    "        print(f\"{word}: {count}\")\n",
    "    print(\"\\n\")"
   ]
  },
  {
   "cell_type": "code",
   "execution_count": 27,
   "id": "0734954a-ae64-44d6-b758-37584e5d8683",
   "metadata": {},
   "outputs": [
    {
     "name": "stdout",
     "output_type": "stream",
     "text": [
      "set()\n"
     ]
    }
   ],
   "source": [
    "# identifying common words\n",
    "labels = list(high_freq_words.keys())\n",
    "\n",
    "words_ham = [word for word,_ in high_freq_words[labels[0]]]\n",
    "words_spam = [word for word,_ in high_freq_words[labels[1]]]\n",
    "\n",
    "common_words = set(words_ham) & set(words_spam)\n",
    "\n",
    "print(common_words)"
   ]
  },
  {
   "cell_type": "markdown",
   "id": "e6be11d7-b003-443f-b2a3-51b5671670cf",
   "metadata": {},
   "source": [
    "### <div style=\"color:green;\">Observations</div>\n",
    "\n",
    "<hr>\n",
    "<div style=\"color:green;\">\n",
    "    <ul>\n",
    "        <li>High frequency words are not overlapping between the two classes.</li>\n",
    "        <li>This can make rule-based predictions viable.</li>\n",
    "    </ul>\n",
    "</div>\n",
    "<hr>"
   ]
  },
  {
   "cell_type": "markdown",
   "id": "f88972ab-7e12-4ccb-84db-8d34aa306e5a",
   "metadata": {},
   "source": [
    "## 3. Data Preparation"
   ]
  },
  {
   "cell_type": "markdown",
   "id": "0ad8c9de-e76b-4dab-b97c-caf20057eb76",
   "metadata": {},
   "source": [
    "### 3.1 Creating Train, Validation and Test data sets"
   ]
  },
  {
   "cell_type": "code",
   "execution_count": 28,
   "id": "37dc01aa-2c57-4df5-94c9-ad992b8ebd65",
   "metadata": {},
   "outputs": [],
   "source": [
    "# Model selection\n",
    "from sklearn.model_selection import train_test_split"
   ]
  },
  {
   "cell_type": "code",
   "execution_count": 29,
   "id": "5dcbaee2-55cb-483a-9bfe-ce54130d24bd",
   "metadata": {},
   "outputs": [],
   "source": [
    "def dataSets(dataframe):\n",
    "    '''\n",
    "    This function returns the train, validation and test datasets. \n",
    "    Along with returning these datasets it will also print the\n",
    "    class representation across datasets.\n",
    "    '''\n",
    "    train_val, test = train_test_split(dataframe, test_size = 0.2, random_state = 42, stratify = dataframe['Label'])\n",
    "    tr, val = train_test_split(train_val, test_size = 0.2, random_state = 42, stratify = train_val['Label'])\n",
    "    \n",
    "    tr_distribution = tr['Label'].value_counts(normalize=True).mul(100).round(1)\n",
    "    print(f\"\\nNo of samples in train data : {len(tr)}\")\n",
    "    print(f\"Train data class distribution % :\")\n",
    "    print(tr_distribution)\n",
    "\n",
    "    val_distribution = val['Label'].value_counts(normalize=True).mul(100).round(1)\n",
    "    print(f\"\\nNo of samples in validation data : {len(val)}\")\n",
    "    print(f\"Validation data class distribution % :\")\n",
    "    print(val_distribution)\n",
    "\n",
    "    test_distribution = test['Label'].value_counts(normalize=True).mul(100).round(1)\n",
    "    print(f\"\\nNo of samples in test data : {len(test)}\")\n",
    "    print(f\"Test data class distribution % :\")\n",
    "    print(test_distribution)\n",
    "\n",
    "    return tr, val, test"
   ]
  },
  {
   "cell_type": "code",
   "execution_count": 30,
   "id": "7677c328-9ecb-474c-bba9-392467a8ed67",
   "metadata": {},
   "outputs": [
    {
     "name": "stdout",
     "output_type": "stream",
     "text": [
      "\n",
      "No of samples in train data : 3565\n",
      "Train data class distribution % :\n",
      "Label\n",
      "ham     86.6\n",
      "spam    13.4\n",
      "Name: proportion, dtype: float64\n",
      "\n",
      "No of samples in validation data : 892\n",
      "Validation data class distribution % :\n",
      "Label\n",
      "ham     86.5\n",
      "spam    13.5\n",
      "Name: proportion, dtype: float64\n",
      "\n",
      "No of samples in test data : 1115\n",
      "Test data class distribution % :\n",
      "Label\n",
      "ham     86.6\n",
      "spam    13.4\n",
      "Name: proportion, dtype: float64\n"
     ]
    }
   ],
   "source": [
    "train, validation, test = dataSets(df)"
   ]
  },
  {
   "cell_type": "markdown",
   "id": "fd39e54d-b7ba-43af-81be-12d3a7612ac6",
   "metadata": {},
   "source": [
    "### 3.2 Saving the data sets for Model Training and Evaluating"
   ]
  },
  {
   "cell_type": "code",
   "execution_count": 31,
   "id": "d9742526-3088-481a-97dc-bf5b61b54f75",
   "metadata": {},
   "outputs": [],
   "source": [
    "train.to_csv('./data/train.csv', index=False)\n",
    "validation.to_csv('./data/validation.csv', index=False)\n",
    "test.to_csv('./data/test.csv', index=False)"
   ]
  }
 ],
 "metadata": {
  "kernelspec": {
   "display_name": "Python 3 (ipykernel)",
   "language": "python",
   "name": "python3"
  },
  "language_info": {
   "codemirror_mode": {
    "name": "ipython",
    "version": 3
   },
   "file_extension": ".py",
   "mimetype": "text/x-python",
   "name": "python",
   "nbconvert_exporter": "python",
   "pygments_lexer": "ipython3",
   "version": "3.11.7"
  }
 },
 "nbformat": 4,
 "nbformat_minor": 5
}
